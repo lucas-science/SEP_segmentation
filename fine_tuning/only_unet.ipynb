{
 "cells": [
  {
   "cell_type": "code",
   "execution_count": 3,
   "id": "f251dbb5",
   "metadata": {},
   "outputs": [
    {
     "name": "stderr",
     "output_type": "stream",
     "text": [
      "c:\\Users\\lucas\\anaconda3\\envs\\monai-dev\\Lib\\site-packages\\ignite\\handlers\\checkpoint.py:17: DeprecationWarning: `TorchScript` support for functional optimizers is deprecated and will be removed in a future PyTorch release. Consider using the `torch.compile` optimizer instead.\n",
      "  from torch.distributed.optim import ZeroRedundancyOptimizer\n",
      "IProgress not found. Please update jupyter and ipywidgets. See https://ipywidgets.readthedocs.io/en/stable/user_install.html\n"
     ]
    }
   ],
   "source": [
    "import matplotlib\n",
    "matplotlib.use(\"module://matplotlib_inline.backend_inline\")\n",
    "import os\n",
    "import random\n",
    "from glob import glob\n",
    "import numpy as np\n",
    "import matplotlib.pyplot as plt\n",
    "\n",
    "import torch\n",
    "from torch import nn\n",
    "from torch.utils.data import Dataset, DataLoader\n",
    "from torch.optim.lr_scheduler import ReduceLROnPlateau\n",
    "\n",
    "\n",
    "from monai.transforms import (\n",
    "    Compose, LoadImage, Resize, ScaleIntensity, ToTensor\n",
    ")\n",
    "from monai.networks.nets import UNet, AutoEncoder\n",
    "from monai.losses import DiceLoss\n",
    "from monai.metrics import DiceMetric\n",
    "from monai.inferers import sliding_window_inference\n",
    "from monai.utils import set_determinism\n",
    "\n",
    "from sklearn.model_selection import train_test_split\n",
    "\n",
    "from tqdm import tqdm"
   ]
  },
  {
   "cell_type": "code",
   "execution_count": 4,
   "id": "630cb608",
   "metadata": {},
   "outputs": [],
   "source": [
    "DATA_ROOT = \"./data\"\n",
    "SLICE_RANGE = [145, 291]\n",
    "\n",
    "CHANNELS = (16, 32, 64, 128, 256)\n",
    "STRIDES = (2, 2, 2, 2, 2)\n",
    "\n",
    "IMG_SIZE = (256,256)\n",
    "\n",
    "NBR_EPOCH_UNET = 50\n",
    "\n",
    "BATCH_SIZE     = 4\n",
    "NUM_WORKERS    = 0\n",
    "N_EPOCHS       = 50\n",
    "LR             = 1e-4\n",
    "PATIENCE       = 10\n",
    "MODEL_DIR      = \"./base_unet_ckpt\"\n",
    "os.makedirs(MODEL_DIR, exist_ok=True)\n",
    "DEVICE = torch.device(\"cuda\" if torch.cuda.is_available() else \"cpu\")\n"
   ]
  },
  {
   "cell_type": "code",
   "execution_count": 5,
   "id": "a164614c",
   "metadata": {},
   "outputs": [
    {
     "name": "stdout",
     "output_type": "stream",
     "text": [
      "Test: ['07040DORE']\n",
      "Supervised: ['08002CHJE', '08027SYBR', '01038PAGU', '01016SACH']\n"
     ]
    }
   ],
   "source": [
    "all_patients = sorted(os.listdir(DATA_ROOT))\n",
    "random.seed(42)\n",
    "random.shuffle(all_patients)\n",
    "\n",
    "test_patients = all_patients[:1]\n",
    "supervised_pool = all_patients[9:]\n",
    "\n",
    "# Split supervised patients into train and val\n",
    "train_patients, val_patients = train_test_split(supervised_pool, test_size=0.25, random_state=42)\n",
    "\n",
    "print(f\"Test: {test_patients}\")\n",
    "print(f\"Supervised: {train_patients}\")\n"
   ]
  },
  {
   "cell_type": "code",
   "execution_count": 6,
   "id": "057b4503",
   "metadata": {},
   "outputs": [],
   "source": [
    "from torchvision import transforms\n",
    "from torch.utils.data import Dataset\n",
    "from PIL import Image\n",
    "import os\n",
    "import re\n",
    "\n",
    "class PngSlicesDataset(Dataset):\n",
    "    \"\"\"\n",
    "    Dataset PyTorch pour charger des paires image/masque depuis des dossiers de slices PNG.\n",
    "    Gère les cas avec ou sans masque (pré-entraînement ou entraînement supervisé).\n",
    "    Prend en compte une liste explicite de patients.\n",
    "    \"\"\"\n",
    "    def __init__(self, root_dir, with_mask=True, resized_size=(256, 256), slice_range=None, transform=None, patient_list=None):\n",
    "        self.image_paths = []\n",
    "        self.mask_paths = []\n",
    "        self.patient_names = []\n",
    "        self.resized_size = resized_size\n",
    "        self.slice_range = slice_range\n",
    "        self.with_mask = with_mask\n",
    "        self.transform = transform if transform is not None else transforms.ToTensor()\n",
    "\n",
    "        # Filtrer les patients selon la liste fournie\n",
    "        all_patients = sorted(os.listdir(root_dir))\n",
    "        patients = patient_list if patient_list is not None else all_patients\n",
    "\n",
    "        for patient in patients:\n",
    "            images_folder = os.path.join(root_dir, patient, \"IRM\")\n",
    "            masks_folder = os.path.join(root_dir, patient, \"masque\")\n",
    "\n",
    "            if not os.path.isdir(images_folder):\n",
    "                continue\n",
    "            if self.with_mask and not os.path.isdir(masks_folder):\n",
    "                continue\n",
    "\n",
    "            for img_file in sorted(os.listdir(images_folder)):\n",
    "                match = re.match(r\"slice_(\\d+)\\.png\", img_file)\n",
    "                if not match:\n",
    "                    continue\n",
    "\n",
    "                slice_num = int(match.group(1))\n",
    "                if self.slice_range and not (self.slice_range[0] <= slice_num <= self.slice_range[1]):\n",
    "                    continue\n",
    "\n",
    "                img_path = os.path.join(images_folder, img_file)\n",
    "                if self.with_mask:\n",
    "                    mask_path = os.path.join(masks_folder, img_file)\n",
    "                    if not os.path.exists(mask_path):\n",
    "                        continue\n",
    "                    self.mask_paths.append(mask_path)\n",
    "\n",
    "                self.image_paths.append(img_path)\n",
    "                self.patient_names.append(patient)\n",
    "\n",
    "    def __len__(self):\n",
    "        return len(self.image_paths)\n",
    "\n",
    "    def __getitem__(self, idx):\n",
    "        img = Image.open(self.image_paths[idx]).convert('L')\n",
    "        resize = transforms.Resize(self.resized_size)\n",
    "        img = resize(img)\n",
    "        img = self.transform(img)\n",
    "        img = (img - 0.5) / 0.5  # Normalisation [-1, 1]\n",
    "\n",
    "        if self.with_mask:\n",
    "            mask = Image.open(self.mask_paths[idx]).convert('L')\n",
    "            mask = resize(mask)\n",
    "            mask = self.transform(mask)\n",
    "            mask = (mask > 0.5).float()\n",
    "            return img, mask, self.image_paths[idx]\n",
    "        else:\n",
    "            return img, self.image_paths[idx]\n",
    "\n",
    "    def get_patient_name(self, idx):\n",
    "        return self.patient_names[idx]\n"
   ]
  },
  {
   "cell_type": "code",
   "execution_count": 7,
   "id": "dc6cbcd1",
   "metadata": {},
   "outputs": [],
   "source": [
    "\n",
    "# Création des datasets\n",
    "train_dataset = PngSlicesDataset(DATA_ROOT, with_mask=True, resized_size=IMG_SIZE, slice_range=SLICE_RANGE, patient_list=train_patients)\n",
    "val_dataset = PngSlicesDataset(DATA_ROOT, with_mask=True, resized_size=IMG_SIZE, slice_range=SLICE_RANGE, patient_list=val_patients)\n",
    "test_dataset = PngSlicesDataset(DATA_ROOT, with_mask=True, resized_size=IMG_SIZE, slice_range=SLICE_RANGE, patient_list=test_patients)\n"
   ]
  },
  {
   "cell_type": "code",
   "execution_count": null,
   "id": "6a1065ed",
   "metadata": {},
   "outputs": [
    {
     "name": "stderr",
     "output_type": "stream",
     "text": [
      "`len(strides) > len(channels) - 1`, the last 1 values of strides will not be used.\n",
      "The verbose parameter is deprecated. Please use get_last_lr() to access the learning rate.\n"
     ]
    },
    {
     "name": "stdout",
     "output_type": "stream",
     "text": [
      "\n",
      "Epoch 1/50\n"
     ]
    },
    {
     "name": "stderr",
     "output_type": "stream",
     "text": [
      "Train: 100%|██████████| 124/124 [00:11<00:00, 10.54it/s]\n"
     ]
    },
    {
     "name": "stdout",
     "output_type": "stream",
     "text": [
      "Train Loss: 0.9175\n"
     ]
    },
    {
     "name": "stderr",
     "output_type": "stream",
     "text": [
      "Val: 100%|██████████| 43/43 [00:03<00:00, 12.43it/s]\n"
     ]
    },
    {
     "name": "stdout",
     "output_type": "stream",
     "text": [
      "Val Loss: 0.9004 | Val Dice: 0.0797\n",
      "💾 Model saved\n",
      "\n",
      "Epoch 2/50\n"
     ]
    },
    {
     "name": "stderr",
     "output_type": "stream",
     "text": [
      "Train: 100%|██████████| 124/124 [00:10<00:00, 11.72it/s]\n"
     ]
    },
    {
     "name": "stdout",
     "output_type": "stream",
     "text": [
      "Train Loss: 0.8899\n"
     ]
    },
    {
     "name": "stderr",
     "output_type": "stream",
     "text": [
      "Val: 100%|██████████| 43/43 [00:03<00:00, 13.35it/s]\n"
     ]
    },
    {
     "name": "stdout",
     "output_type": "stream",
     "text": [
      "Val Loss: 0.8920 | Val Dice: 0.1289\n",
      "💾 Model saved\n",
      "\n",
      "Epoch 3/50\n"
     ]
    },
    {
     "name": "stderr",
     "output_type": "stream",
     "text": [
      "Train: 100%|██████████| 124/124 [00:10<00:00, 11.72it/s]\n"
     ]
    },
    {
     "name": "stdout",
     "output_type": "stream",
     "text": [
      "Train Loss: 0.8812\n"
     ]
    },
    {
     "name": "stderr",
     "output_type": "stream",
     "text": [
      "Val: 100%|██████████| 43/43 [00:03<00:00, 14.22it/s]\n"
     ]
    },
    {
     "name": "stdout",
     "output_type": "stream",
     "text": [
      "Val Loss: 0.8890 | Val Dice: 0.1618\n",
      "💾 Model saved\n",
      "\n",
      "Epoch 4/50\n"
     ]
    },
    {
     "name": "stderr",
     "output_type": "stream",
     "text": [
      "Train: 100%|██████████| 124/124 [00:10<00:00, 12.02it/s]\n"
     ]
    },
    {
     "name": "stdout",
     "output_type": "stream",
     "text": [
      "Train Loss: 0.8760\n"
     ]
    },
    {
     "name": "stderr",
     "output_type": "stream",
     "text": [
      "Val: 100%|██████████| 43/43 [00:03<00:00, 11.32it/s]\n"
     ]
    },
    {
     "name": "stdout",
     "output_type": "stream",
     "text": [
      "Val Loss: 0.8846 | Val Dice: 0.1855\n",
      "💾 Model saved\n",
      "\n",
      "Epoch 5/50\n"
     ]
    },
    {
     "name": "stderr",
     "output_type": "stream",
     "text": [
      "Train: 100%|██████████| 124/124 [00:25<00:00,  4.82it/s]\n"
     ]
    },
    {
     "name": "stdout",
     "output_type": "stream",
     "text": [
      "Train Loss: 0.8719\n"
     ]
    },
    {
     "name": "stderr",
     "output_type": "stream",
     "text": [
      "Val: 100%|██████████| 43/43 [00:08<00:00,  5.33it/s]\n"
     ]
    },
    {
     "name": "stdout",
     "output_type": "stream",
     "text": [
      "Val Loss: 0.8829 | Val Dice: 0.1937\n",
      "💾 Model saved\n",
      "\n",
      "Epoch 6/50\n"
     ]
    },
    {
     "name": "stderr",
     "output_type": "stream",
     "text": [
      "Train: 100%|██████████| 124/124 [00:23<00:00,  5.21it/s]\n"
     ]
    },
    {
     "name": "stdout",
     "output_type": "stream",
     "text": [
      "Train Loss: 0.8676\n"
     ]
    },
    {
     "name": "stderr",
     "output_type": "stream",
     "text": [
      "Val: 100%|██████████| 43/43 [00:03<00:00, 14.23it/s]\n"
     ]
    },
    {
     "name": "stdout",
     "output_type": "stream",
     "text": [
      "Val Loss: 0.8811 | Val Dice: 0.2063\n",
      "💾 Model saved\n",
      "\n",
      "Epoch 7/50\n"
     ]
    },
    {
     "name": "stderr",
     "output_type": "stream",
     "text": [
      "Train: 100%|██████████| 124/124 [00:10<00:00, 12.29it/s]\n"
     ]
    },
    {
     "name": "stdout",
     "output_type": "stream",
     "text": [
      "Train Loss: 0.8639\n"
     ]
    },
    {
     "name": "stderr",
     "output_type": "stream",
     "text": [
      "Val: 100%|██████████| 43/43 [00:02<00:00, 14.71it/s]\n"
     ]
    },
    {
     "name": "stdout",
     "output_type": "stream",
     "text": [
      "Val Loss: 0.8756 | Val Dice: 0.2167\n",
      "💾 Model saved\n",
      "\n",
      "Epoch 8/50\n"
     ]
    },
    {
     "name": "stderr",
     "output_type": "stream",
     "text": [
      "Train: 100%|██████████| 124/124 [00:10<00:00, 12.00it/s]\n"
     ]
    },
    {
     "name": "stdout",
     "output_type": "stream",
     "text": [
      "Train Loss: 0.8606\n"
     ]
    },
    {
     "name": "stderr",
     "output_type": "stream",
     "text": [
      "Val: 100%|██████████| 43/43 [00:03<00:00, 13.33it/s]\n"
     ]
    },
    {
     "name": "stdout",
     "output_type": "stream",
     "text": [
      "Val Loss: 0.8734 | Val Dice: 0.2305\n",
      "💾 Model saved\n",
      "\n",
      "Epoch 9/50\n"
     ]
    },
    {
     "name": "stderr",
     "output_type": "stream",
     "text": [
      "Train: 100%|██████████| 124/124 [00:10<00:00, 11.59it/s]\n"
     ]
    },
    {
     "name": "stdout",
     "output_type": "stream",
     "text": [
      "Train Loss: 0.8577\n"
     ]
    },
    {
     "name": "stderr",
     "output_type": "stream",
     "text": [
      "Val: 100%|██████████| 43/43 [00:03<00:00, 14.01it/s]\n"
     ]
    },
    {
     "name": "stdout",
     "output_type": "stream",
     "text": [
      "Val Loss: 0.8717 | Val Dice: 0.2518\n",
      "💾 Model saved\n",
      "\n",
      "Epoch 10/50\n"
     ]
    },
    {
     "name": "stderr",
     "output_type": "stream",
     "text": [
      "Train: 100%|██████████| 124/124 [00:10<00:00, 11.35it/s]\n"
     ]
    },
    {
     "name": "stdout",
     "output_type": "stream",
     "text": [
      "Train Loss: 0.8549\n"
     ]
    },
    {
     "name": "stderr",
     "output_type": "stream",
     "text": [
      "Val: 100%|██████████| 43/43 [00:03<00:00, 13.55it/s]\n"
     ]
    },
    {
     "name": "stdout",
     "output_type": "stream",
     "text": [
      "Val Loss: 0.8715 | Val Dice: 0.2512\n",
      "💾 Model saved\n",
      "\n",
      "Epoch 11/50\n"
     ]
    },
    {
     "name": "stderr",
     "output_type": "stream",
     "text": [
      "Train: 100%|██████████| 124/124 [00:11<00:00, 11.04it/s]\n"
     ]
    },
    {
     "name": "stdout",
     "output_type": "stream",
     "text": [
      "Train Loss: 0.8525\n"
     ]
    },
    {
     "name": "stderr",
     "output_type": "stream",
     "text": [
      "Val: 100%|██████████| 43/43 [00:03<00:00, 13.91it/s]\n"
     ]
    },
    {
     "name": "stdout",
     "output_type": "stream",
     "text": [
      "Val Loss: 0.8682 | Val Dice: 0.2536\n",
      "💾 Model saved\n",
      "\n",
      "Epoch 12/50\n"
     ]
    },
    {
     "name": "stderr",
     "output_type": "stream",
     "text": [
      "Train: 100%|██████████| 124/124 [00:10<00:00, 11.49it/s]\n"
     ]
    },
    {
     "name": "stdout",
     "output_type": "stream",
     "text": [
      "Train Loss: 0.8501\n"
     ]
    },
    {
     "name": "stderr",
     "output_type": "stream",
     "text": [
      "Val: 100%|██████████| 43/43 [00:02<00:00, 14.37it/s]\n"
     ]
    },
    {
     "name": "stdout",
     "output_type": "stream",
     "text": [
      "Val Loss: 0.8674 | Val Dice: 0.2577\n",
      "💾 Model saved\n",
      "\n",
      "Epoch 13/50\n"
     ]
    },
    {
     "name": "stderr",
     "output_type": "stream",
     "text": [
      "Train: 100%|██████████| 124/124 [00:18<00:00,  6.59it/s]\n"
     ]
    },
    {
     "name": "stdout",
     "output_type": "stream",
     "text": [
      "Train Loss: 0.8479\n"
     ]
    },
    {
     "name": "stderr",
     "output_type": "stream",
     "text": [
      "Val: 100%|██████████| 43/43 [00:08<00:00,  5.24it/s]\n"
     ]
    },
    {
     "name": "stdout",
     "output_type": "stream",
     "text": [
      "Val Loss: 0.8642 | Val Dice: 0.2764\n",
      "💾 Model saved\n",
      "\n",
      "Epoch 14/50\n"
     ]
    },
    {
     "name": "stderr",
     "output_type": "stream",
     "text": [
      "Train: 100%|██████████| 124/124 [00:22<00:00,  5.55it/s]\n"
     ]
    },
    {
     "name": "stdout",
     "output_type": "stream",
     "text": [
      "Train Loss: 0.8456\n"
     ]
    },
    {
     "name": "stderr",
     "output_type": "stream",
     "text": [
      "Val: 100%|██████████| 43/43 [00:08<00:00,  5.33it/s]\n"
     ]
    },
    {
     "name": "stdout",
     "output_type": "stream",
     "text": [
      "Val Loss: 0.8659 | Val Dice: 0.2729\n",
      "\n",
      "Epoch 15/50\n"
     ]
    },
    {
     "name": "stderr",
     "output_type": "stream",
     "text": [
      "Train: 100%|██████████| 124/124 [00:23<00:00,  5.28it/s]\n"
     ]
    },
    {
     "name": "stdout",
     "output_type": "stream",
     "text": [
      "Train Loss: 0.8435\n"
     ]
    },
    {
     "name": "stderr",
     "output_type": "stream",
     "text": [
      "Val: 100%|██████████| 43/43 [00:07<00:00,  5.52it/s]\n"
     ]
    },
    {
     "name": "stdout",
     "output_type": "stream",
     "text": [
      "Val Loss: 0.8643 | Val Dice: 0.2906\n",
      "\n",
      "Epoch 16/50\n"
     ]
    },
    {
     "name": "stderr",
     "output_type": "stream",
     "text": [
      "Train: 100%|██████████| 124/124 [00:22<00:00,  5.46it/s]\n"
     ]
    },
    {
     "name": "stdout",
     "output_type": "stream",
     "text": [
      "Train Loss: 0.8415\n"
     ]
    },
    {
     "name": "stderr",
     "output_type": "stream",
     "text": [
      "Val: 100%|██████████| 43/43 [00:08<00:00,  4.88it/s]\n"
     ]
    },
    {
     "name": "stdout",
     "output_type": "stream",
     "text": [
      "Val Loss: 0.8590 | Val Dice: 0.2855\n",
      "💾 Model saved\n",
      "\n",
      "Epoch 17/50\n"
     ]
    },
    {
     "name": "stderr",
     "output_type": "stream",
     "text": [
      "Train: 100%|██████████| 124/124 [00:22<00:00,  5.58it/s]\n"
     ]
    },
    {
     "name": "stdout",
     "output_type": "stream",
     "text": [
      "Train Loss: 0.8394\n"
     ]
    },
    {
     "name": "stderr",
     "output_type": "stream",
     "text": [
      "Val: 100%|██████████| 43/43 [00:06<00:00,  6.74it/s]\n"
     ]
    },
    {
     "name": "stdout",
     "output_type": "stream",
     "text": [
      "Val Loss: 0.8616 | Val Dice: 0.2849\n",
      "\n",
      "Epoch 18/50\n"
     ]
    },
    {
     "name": "stderr",
     "output_type": "stream",
     "text": [
      "Train: 100%|██████████| 124/124 [00:22<00:00,  5.60it/s]\n"
     ]
    },
    {
     "name": "stdout",
     "output_type": "stream",
     "text": [
      "Train Loss: 0.8374\n"
     ]
    },
    {
     "name": "stderr",
     "output_type": "stream",
     "text": [
      "Val: 100%|██████████| 43/43 [00:08<00:00,  5.30it/s]\n"
     ]
    },
    {
     "name": "stdout",
     "output_type": "stream",
     "text": [
      "Val Loss: 0.8595 | Val Dice: 0.2904\n",
      "\n",
      "Epoch 19/50\n"
     ]
    },
    {
     "name": "stderr",
     "output_type": "stream",
     "text": [
      "Train: 100%|██████████| 124/124 [00:21<00:00,  5.82it/s]\n"
     ]
    },
    {
     "name": "stdout",
     "output_type": "stream",
     "text": [
      "Train Loss: 0.8355\n"
     ]
    },
    {
     "name": "stderr",
     "output_type": "stream",
     "text": [
      "Val: 100%|██████████| 43/43 [00:06<00:00,  6.33it/s]\n"
     ]
    },
    {
     "name": "stdout",
     "output_type": "stream",
     "text": [
      "Val Loss: 0.8605 | Val Dice: 0.2863\n",
      "\n",
      "Epoch 20/50\n"
     ]
    },
    {
     "name": "stderr",
     "output_type": "stream",
     "text": [
      "Train: 100%|██████████| 124/124 [00:22<00:00,  5.44it/s]\n"
     ]
    },
    {
     "name": "stdout",
     "output_type": "stream",
     "text": [
      "Train Loss: 0.8335\n"
     ]
    },
    {
     "name": "stderr",
     "output_type": "stream",
     "text": [
      "Val: 100%|██████████| 43/43 [00:08<00:00,  5.26it/s]\n"
     ]
    },
    {
     "name": "stdout",
     "output_type": "stream",
     "text": [
      "Val Loss: 0.8570 | Val Dice: 0.2982\n",
      "💾 Model saved\n",
      "\n",
      "Epoch 21/50\n"
     ]
    },
    {
     "name": "stderr",
     "output_type": "stream",
     "text": [
      "Train: 100%|██████████| 124/124 [00:22<00:00,  5.50it/s]\n"
     ]
    },
    {
     "name": "stdout",
     "output_type": "stream",
     "text": [
      "Train Loss: 0.8316\n"
     ]
    },
    {
     "name": "stderr",
     "output_type": "stream",
     "text": [
      "Val: 100%|██████████| 43/43 [00:06<00:00,  6.26it/s]\n"
     ]
    },
    {
     "name": "stdout",
     "output_type": "stream",
     "text": [
      "Val Loss: 0.8545 | Val Dice: 0.2955\n",
      "💾 Model saved\n",
      "\n",
      "Epoch 22/50\n"
     ]
    },
    {
     "name": "stderr",
     "output_type": "stream",
     "text": [
      "Train: 100%|██████████| 124/124 [00:21<00:00,  5.69it/s]\n"
     ]
    },
    {
     "name": "stdout",
     "output_type": "stream",
     "text": [
      "Train Loss: 0.8298\n"
     ]
    },
    {
     "name": "stderr",
     "output_type": "stream",
     "text": [
      "Val: 100%|██████████| 43/43 [00:07<00:00,  5.93it/s]\n"
     ]
    },
    {
     "name": "stdout",
     "output_type": "stream",
     "text": [
      "Val Loss: 0.8573 | Val Dice: 0.2908\n",
      "\n",
      "Epoch 23/50\n"
     ]
    },
    {
     "name": "stderr",
     "output_type": "stream",
     "text": [
      "Train: 100%|██████████| 124/124 [00:23<00:00,  5.38it/s]\n"
     ]
    },
    {
     "name": "stdout",
     "output_type": "stream",
     "text": [
      "Train Loss: 0.8278\n"
     ]
    },
    {
     "name": "stderr",
     "output_type": "stream",
     "text": [
      "Val: 100%|██████████| 43/43 [00:07<00:00,  5.73it/s]\n"
     ]
    },
    {
     "name": "stdout",
     "output_type": "stream",
     "text": [
      "Val Loss: 0.8530 | Val Dice: 0.3041\n",
      "💾 Model saved\n",
      "\n",
      "Epoch 24/50\n"
     ]
    },
    {
     "name": "stderr",
     "output_type": "stream",
     "text": [
      "Train: 100%|██████████| 124/124 [00:22<00:00,  5.46it/s]\n"
     ]
    },
    {
     "name": "stdout",
     "output_type": "stream",
     "text": [
      "Train Loss: 0.8261\n"
     ]
    },
    {
     "name": "stderr",
     "output_type": "stream",
     "text": [
      "Val: 100%|██████████| 43/43 [00:07<00:00,  6.14it/s]\n"
     ]
    },
    {
     "name": "stdout",
     "output_type": "stream",
     "text": [
      "Val Loss: 0.8541 | Val Dice: 0.2866\n",
      "\n",
      "Epoch 25/50\n"
     ]
    },
    {
     "name": "stderr",
     "output_type": "stream",
     "text": [
      "Train: 100%|██████████| 124/124 [00:21<00:00,  5.65it/s]\n"
     ]
    },
    {
     "name": "stdout",
     "output_type": "stream",
     "text": [
      "Train Loss: 0.8242\n"
     ]
    },
    {
     "name": "stderr",
     "output_type": "stream",
     "text": [
      "Val: 100%|██████████| 43/43 [00:06<00:00,  6.19it/s]\n"
     ]
    },
    {
     "name": "stdout",
     "output_type": "stream",
     "text": [
      "Val Loss: 0.8510 | Val Dice: 0.3022\n",
      "💾 Model saved\n",
      "\n",
      "Epoch 26/50\n"
     ]
    },
    {
     "name": "stderr",
     "output_type": "stream",
     "text": [
      "Train: 100%|██████████| 124/124 [00:23<00:00,  5.30it/s]\n"
     ]
    },
    {
     "name": "stdout",
     "output_type": "stream",
     "text": [
      "Train Loss: 0.8223\n"
     ]
    },
    {
     "name": "stderr",
     "output_type": "stream",
     "text": [
      "Val: 100%|██████████| 43/43 [00:07<00:00,  5.99it/s]\n"
     ]
    },
    {
     "name": "stdout",
     "output_type": "stream",
     "text": [
      "Val Loss: 0.8529 | Val Dice: 0.2842\n",
      "\n",
      "Epoch 27/50\n"
     ]
    },
    {
     "name": "stderr",
     "output_type": "stream",
     "text": [
      "Train: 100%|██████████| 124/124 [00:22<00:00,  5.43it/s]\n"
     ]
    },
    {
     "name": "stdout",
     "output_type": "stream",
     "text": [
      "Train Loss: 0.8207\n"
     ]
    },
    {
     "name": "stderr",
     "output_type": "stream",
     "text": [
      "Val: 100%|██████████| 43/43 [00:07<00:00,  6.02it/s]\n"
     ]
    },
    {
     "name": "stdout",
     "output_type": "stream",
     "text": [
      "Val Loss: 0.8477 | Val Dice: 0.2986\n",
      "💾 Model saved\n",
      "\n",
      "Epoch 28/50\n"
     ]
    },
    {
     "name": "stderr",
     "output_type": "stream",
     "text": [
      "Train: 100%|██████████| 124/124 [00:24<00:00,  5.15it/s]\n"
     ]
    },
    {
     "name": "stdout",
     "output_type": "stream",
     "text": [
      "Train Loss: 0.8190\n"
     ]
    },
    {
     "name": "stderr",
     "output_type": "stream",
     "text": [
      "Val: 100%|██████████| 43/43 [00:06<00:00,  6.16it/s]\n"
     ]
    },
    {
     "name": "stdout",
     "output_type": "stream",
     "text": [
      "Val Loss: 0.8472 | Val Dice: 0.3017\n",
      "💾 Model saved\n",
      "\n",
      "Epoch 29/50\n"
     ]
    },
    {
     "name": "stderr",
     "output_type": "stream",
     "text": [
      "Train: 100%|██████████| 124/124 [00:23<00:00,  5.21it/s]\n"
     ]
    },
    {
     "name": "stdout",
     "output_type": "stream",
     "text": [
      "Train Loss: 0.8171\n"
     ]
    },
    {
     "name": "stderr",
     "output_type": "stream",
     "text": [
      "Val: 100%|██████████| 43/43 [00:06<00:00,  6.48it/s]\n"
     ]
    },
    {
     "name": "stdout",
     "output_type": "stream",
     "text": [
      "Val Loss: 0.8474 | Val Dice: 0.2861\n",
      "\n",
      "Epoch 30/50\n"
     ]
    },
    {
     "name": "stderr",
     "output_type": "stream",
     "text": [
      "Train: 100%|██████████| 124/124 [00:19<00:00,  6.24it/s]\n"
     ]
    },
    {
     "name": "stdout",
     "output_type": "stream",
     "text": [
      "Train Loss: 0.8154\n"
     ]
    },
    {
     "name": "stderr",
     "output_type": "stream",
     "text": [
      "Val: 100%|██████████| 43/43 [00:07<00:00,  6.14it/s]\n"
     ]
    },
    {
     "name": "stdout",
     "output_type": "stream",
     "text": [
      "Val Loss: 0.8454 | Val Dice: 0.2906\n",
      "💾 Model saved\n",
      "\n",
      "Epoch 31/50\n"
     ]
    },
    {
     "name": "stderr",
     "output_type": "stream",
     "text": [
      "Train: 100%|██████████| 124/124 [00:22<00:00,  5.42it/s]\n"
     ]
    },
    {
     "name": "stdout",
     "output_type": "stream",
     "text": [
      "Train Loss: 0.8135\n"
     ]
    },
    {
     "name": "stderr",
     "output_type": "stream",
     "text": [
      "Val: 100%|██████████| 43/43 [00:06<00:00,  6.29it/s]\n"
     ]
    },
    {
     "name": "stdout",
     "output_type": "stream",
     "text": [
      "Val Loss: 0.8439 | Val Dice: 0.3063\n",
      "💾 Model saved\n",
      "\n",
      "Epoch 32/50\n"
     ]
    },
    {
     "name": "stderr",
     "output_type": "stream",
     "text": [
      "Train: 100%|██████████| 124/124 [00:23<00:00,  5.33it/s]\n"
     ]
    },
    {
     "name": "stdout",
     "output_type": "stream",
     "text": [
      "Train Loss: 0.8119\n"
     ]
    },
    {
     "name": "stderr",
     "output_type": "stream",
     "text": [
      "Val: 100%|██████████| 43/43 [00:07<00:00,  6.02it/s]\n"
     ]
    },
    {
     "name": "stdout",
     "output_type": "stream",
     "text": [
      "Val Loss: 0.8413 | Val Dice: 0.3033\n",
      "💾 Model saved\n",
      "\n",
      "Epoch 33/50\n"
     ]
    },
    {
     "name": "stderr",
     "output_type": "stream",
     "text": [
      "Train: 100%|██████████| 124/124 [00:22<00:00,  5.58it/s]\n"
     ]
    },
    {
     "name": "stdout",
     "output_type": "stream",
     "text": [
      "Train Loss: 0.8100\n"
     ]
    },
    {
     "name": "stderr",
     "output_type": "stream",
     "text": [
      "Val: 100%|██████████| 43/43 [00:06<00:00,  6.16it/s]\n"
     ]
    },
    {
     "name": "stdout",
     "output_type": "stream",
     "text": [
      "Val Loss: 0.8413 | Val Dice: 0.3016\n",
      "\n",
      "Epoch 34/50\n"
     ]
    },
    {
     "name": "stderr",
     "output_type": "stream",
     "text": [
      "Train: 100%|██████████| 124/124 [00:23<00:00,  5.19it/s]\n"
     ]
    },
    {
     "name": "stdout",
     "output_type": "stream",
     "text": [
      "Train Loss: 0.8082\n"
     ]
    },
    {
     "name": "stderr",
     "output_type": "stream",
     "text": [
      "Val: 100%|██████████| 43/43 [00:08<00:00,  5.35it/s]\n"
     ]
    },
    {
     "name": "stdout",
     "output_type": "stream",
     "text": [
      "Val Loss: 0.8424 | Val Dice: 0.2905\n",
      "\n",
      "Epoch 35/50\n"
     ]
    },
    {
     "name": "stderr",
     "output_type": "stream",
     "text": [
      "Train: 100%|██████████| 124/124 [00:26<00:00,  4.75it/s]\n"
     ]
    },
    {
     "name": "stdout",
     "output_type": "stream",
     "text": [
      "Train Loss: 0.8065\n"
     ]
    },
    {
     "name": "stderr",
     "output_type": "stream",
     "text": [
      "Val: 100%|██████████| 43/43 [00:07<00:00,  5.70it/s]\n"
     ]
    },
    {
     "name": "stdout",
     "output_type": "stream",
     "text": [
      "Val Loss: 0.8419 | Val Dice: 0.2900\n",
      "\n",
      "Epoch 36/50\n"
     ]
    },
    {
     "name": "stderr",
     "output_type": "stream",
     "text": [
      "Train: 100%|██████████| 124/124 [00:24<00:00,  5.06it/s]\n"
     ]
    },
    {
     "name": "stdout",
     "output_type": "stream",
     "text": [
      "Train Loss: 0.8048\n"
     ]
    },
    {
     "name": "stderr",
     "output_type": "stream",
     "text": [
      "Val: 100%|██████████| 43/43 [00:08<00:00,  5.07it/s]\n"
     ]
    },
    {
     "name": "stdout",
     "output_type": "stream",
     "text": [
      "Val Loss: 0.8394 | Val Dice: 0.2986\n",
      "💾 Model saved\n",
      "\n",
      "Epoch 37/50\n"
     ]
    },
    {
     "name": "stderr",
     "output_type": "stream",
     "text": [
      "Train: 100%|██████████| 124/124 [00:22<00:00,  5.55it/s]\n"
     ]
    },
    {
     "name": "stdout",
     "output_type": "stream",
     "text": [
      "Train Loss: 0.8030\n"
     ]
    },
    {
     "name": "stderr",
     "output_type": "stream",
     "text": [
      "Val: 100%|██████████| 43/43 [00:08<00:00,  4.89it/s]\n"
     ]
    },
    {
     "name": "stdout",
     "output_type": "stream",
     "text": [
      "Val Loss: 0.8387 | Val Dice: 0.2939\n",
      "💾 Model saved\n",
      "\n",
      "Epoch 38/50\n"
     ]
    },
    {
     "name": "stderr",
     "output_type": "stream",
     "text": [
      "Train: 100%|██████████| 124/124 [00:19<00:00,  6.40it/s]\n"
     ]
    },
    {
     "name": "stdout",
     "output_type": "stream",
     "text": [
      "Train Loss: 0.8013\n"
     ]
    },
    {
     "name": "stderr",
     "output_type": "stream",
     "text": [
      "Val: 100%|██████████| 43/43 [00:07<00:00,  5.95it/s]\n"
     ]
    },
    {
     "name": "stdout",
     "output_type": "stream",
     "text": [
      "Val Loss: 0.8395 | Val Dice: 0.2937\n",
      "\n",
      "Epoch 39/50\n"
     ]
    },
    {
     "name": "stderr",
     "output_type": "stream",
     "text": [
      "Train: 100%|██████████| 124/124 [00:26<00:00,  4.74it/s]\n"
     ]
    },
    {
     "name": "stdout",
     "output_type": "stream",
     "text": [
      "Train Loss: 0.7994\n"
     ]
    },
    {
     "name": "stderr",
     "output_type": "stream",
     "text": [
      "Val: 100%|██████████| 43/43 [00:06<00:00,  7.01it/s]\n"
     ]
    },
    {
     "name": "stdout",
     "output_type": "stream",
     "text": [
      "Val Loss: 0.8361 | Val Dice: 0.3010\n",
      "💾 Model saved\n",
      "\n",
      "Epoch 40/50\n"
     ]
    },
    {
     "name": "stderr",
     "output_type": "stream",
     "text": [
      "Train: 100%|██████████| 124/124 [00:26<00:00,  4.65it/s]\n"
     ]
    },
    {
     "name": "stdout",
     "output_type": "stream",
     "text": [
      "Train Loss: 0.7977\n"
     ]
    },
    {
     "name": "stderr",
     "output_type": "stream",
     "text": [
      "Val: 100%|██████████| 43/43 [00:08<00:00,  5.09it/s]\n"
     ]
    },
    {
     "name": "stdout",
     "output_type": "stream",
     "text": [
      "Val Loss: 0.8372 | Val Dice: 0.2917\n",
      "\n",
      "Epoch 41/50\n"
     ]
    },
    {
     "name": "stderr",
     "output_type": "stream",
     "text": [
      "Train: 100%|██████████| 124/124 [00:21<00:00,  5.81it/s]\n"
     ]
    },
    {
     "name": "stdout",
     "output_type": "stream",
     "text": [
      "Train Loss: 0.7960\n"
     ]
    },
    {
     "name": "stderr",
     "output_type": "stream",
     "text": [
      "Val: 100%|██████████| 43/43 [00:07<00:00,  6.10it/s]\n"
     ]
    },
    {
     "name": "stdout",
     "output_type": "stream",
     "text": [
      "Val Loss: 0.8391 | Val Dice: 0.2876\n",
      "\n",
      "Epoch 42/50\n"
     ]
    },
    {
     "name": "stderr",
     "output_type": "stream",
     "text": [
      "Train: 100%|██████████| 124/124 [00:21<00:00,  5.73it/s]\n"
     ]
    },
    {
     "name": "stdout",
     "output_type": "stream",
     "text": [
      "Train Loss: 0.7943\n"
     ]
    },
    {
     "name": "stderr",
     "output_type": "stream",
     "text": [
      "Val: 100%|██████████| 43/43 [00:07<00:00,  5.92it/s]\n"
     ]
    },
    {
     "name": "stdout",
     "output_type": "stream",
     "text": [
      "Val Loss: 0.8337 | Val Dice: 0.2941\n",
      "💾 Model saved\n",
      "\n",
      "Epoch 43/50\n"
     ]
    },
    {
     "name": "stderr",
     "output_type": "stream",
     "text": [
      "Train: 100%|██████████| 124/124 [00:23<00:00,  5.18it/s]\n"
     ]
    },
    {
     "name": "stdout",
     "output_type": "stream",
     "text": [
      "Train Loss: 0.7925\n"
     ]
    },
    {
     "name": "stderr",
     "output_type": "stream",
     "text": [
      "Val: 100%|██████████| 43/43 [00:06<00:00,  6.41it/s]\n"
     ]
    },
    {
     "name": "stdout",
     "output_type": "stream",
     "text": [
      "Val Loss: 0.8359 | Val Dice: 0.2933\n",
      "\n",
      "Epoch 44/50\n"
     ]
    },
    {
     "name": "stderr",
     "output_type": "stream",
     "text": [
      "Train: 100%|██████████| 124/124 [00:19<00:00,  6.21it/s]\n"
     ]
    },
    {
     "name": "stdout",
     "output_type": "stream",
     "text": [
      "Train Loss: 0.7905\n"
     ]
    },
    {
     "name": "stderr",
     "output_type": "stream",
     "text": [
      "Val: 100%|██████████| 43/43 [00:06<00:00,  6.40it/s]\n"
     ]
    },
    {
     "name": "stdout",
     "output_type": "stream",
     "text": [
      "Val Loss: 0.8306 | Val Dice: 0.3036\n",
      "💾 Model saved\n",
      "\n",
      "Epoch 45/50\n"
     ]
    },
    {
     "name": "stderr",
     "output_type": "stream",
     "text": [
      "Train: 100%|██████████| 124/124 [00:12<00:00, 10.09it/s]\n"
     ]
    },
    {
     "name": "stdout",
     "output_type": "stream",
     "text": [
      "Train Loss: 0.7887\n"
     ]
    },
    {
     "name": "stderr",
     "output_type": "stream",
     "text": [
      "Val: 100%|██████████| 43/43 [00:02<00:00, 15.53it/s]\n"
     ]
    },
    {
     "name": "stdout",
     "output_type": "stream",
     "text": [
      "Val Loss: 0.8337 | Val Dice: 0.2908\n",
      "\n",
      "Epoch 46/50\n"
     ]
    },
    {
     "name": "stderr",
     "output_type": "stream",
     "text": [
      "Train: 100%|██████████| 124/124 [00:09<00:00, 12.45it/s]\n"
     ]
    },
    {
     "name": "stdout",
     "output_type": "stream",
     "text": [
      "Train Loss: 0.7869\n"
     ]
    },
    {
     "name": "stderr",
     "output_type": "stream",
     "text": [
      "Val: 100%|██████████| 43/43 [00:03<00:00, 14.17it/s]\n"
     ]
    },
    {
     "name": "stdout",
     "output_type": "stream",
     "text": [
      "Val Loss: 0.8337 | Val Dice: 0.2882\n",
      "\n",
      "Epoch 47/50\n"
     ]
    },
    {
     "name": "stderr",
     "output_type": "stream",
     "text": [
      "Train: 100%|██████████| 124/124 [00:11<00:00, 10.84it/s]\n"
     ]
    },
    {
     "name": "stdout",
     "output_type": "stream",
     "text": [
      "Train Loss: 0.7851\n"
     ]
    },
    {
     "name": "stderr",
     "output_type": "stream",
     "text": [
      "Val: 100%|██████████| 43/43 [00:03<00:00, 13.50it/s]\n"
     ]
    },
    {
     "name": "stdout",
     "output_type": "stream",
     "text": [
      "Val Loss: 0.8302 | Val Dice: 0.2993\n",
      "💾 Model saved\n",
      "\n",
      "Epoch 48/50\n"
     ]
    },
    {
     "name": "stderr",
     "output_type": "stream",
     "text": [
      "Train: 100%|██████████| 124/124 [00:16<00:00,  7.33it/s]\n"
     ]
    },
    {
     "name": "stdout",
     "output_type": "stream",
     "text": [
      "Train Loss: 0.7830\n"
     ]
    },
    {
     "name": "stderr",
     "output_type": "stream",
     "text": [
      "Val: 100%|██████████| 43/43 [00:02<00:00, 14.95it/s]\n"
     ]
    },
    {
     "name": "stdout",
     "output_type": "stream",
     "text": [
      "Val Loss: 0.8287 | Val Dice: 0.2855\n",
      "💾 Model saved\n",
      "\n",
      "Epoch 49/50\n"
     ]
    },
    {
     "name": "stderr",
     "output_type": "stream",
     "text": [
      "Train: 100%|██████████| 124/124 [00:10<00:00, 12.26it/s]\n"
     ]
    },
    {
     "name": "stdout",
     "output_type": "stream",
     "text": [
      "Train Loss: 0.7811\n"
     ]
    },
    {
     "name": "stderr",
     "output_type": "stream",
     "text": [
      "Val: 100%|██████████| 43/43 [00:02<00:00, 15.03it/s]\n"
     ]
    },
    {
     "name": "stdout",
     "output_type": "stream",
     "text": [
      "Val Loss: 0.8309 | Val Dice: 0.2801\n",
      "\n",
      "Epoch 50/50\n"
     ]
    },
    {
     "name": "stderr",
     "output_type": "stream",
     "text": [
      "Train: 100%|██████████| 124/124 [00:09<00:00, 12.85it/s]\n"
     ]
    },
    {
     "name": "stdout",
     "output_type": "stream",
     "text": [
      "Train Loss: 0.7795\n"
     ]
    },
    {
     "name": "stderr",
     "output_type": "stream",
     "text": [
      "Val: 100%|██████████| 43/43 [00:02<00:00, 14.57it/s]\n",
      "You are using `torch.load` with `weights_only=False` (the current default value), which uses the default pickle module implicitly. It is possible to construct malicious pickle data which will execute arbitrary code during unpickling (See https://github.com/pytorch/pytorch/blob/main/SECURITY.md#untrusted-models for more details). In a future release, the default value for `weights_only` will be flipped to `True`. This limits the functions that could be executed during unpickling. Arbitrary objects will no longer be allowed to be loaded via this mode unless they are explicitly allowlisted by the user via `torch.serialization.add_safe_globals`. We recommend you start setting `weights_only=True` for any use case where you don't have full control of the loaded file. Please open an issue on GitHub for any issues related to this experimental feature.\n"
     ]
    },
    {
     "name": "stdout",
     "output_type": "stream",
     "text": [
      "Val Loss: 0.8273 | Val Dice: 0.2919\n",
      "💾 Model saved\n"
     ]
    },
    {
     "name": "stderr",
     "output_type": "stream",
     "text": [
      "Test: 100%|██████████| 26/26 [00:02<00:00, 11.85it/s]\n"
     ]
    },
    {
     "name": "stdout",
     "output_type": "stream",
     "text": [
      "\n",
      "🎯 Test Dice: 0.0415\n"
     ]
    },
    {
     "data": {
      "image/png": "[encoded data removed]",
      "text/plain": [
       "<Figure size 1000x400 with 2 Axes>"
      ]
     },
     "metadata": {},
     "output_type": "display_data"
    }
   ],
   "source": [
    "%matplotlib inline\n",
    "\n",
    "BATCH_SIZE_UNET = 4     # ajustez selon la VRAM dispo\n",
    "NUM_WORKERS     = 0     # 0 en notebook, >0 sinon\n",
    "# -------------------------\n",
    "# 1) Datasets & Loaders\n",
    "# -------------------------\n",
    "train_ds = PngSlicesDataset(DATA_ROOT, with_mask=True,\n",
    "    resized_size=IMG_SIZE, slice_range=SLICE_RANGE,\n",
    "    patient_list=train_patients)\n",
    "val_ds = PngSlicesDataset(DATA_ROOT, with_mask=True,\n",
    "    resized_size=IMG_SIZE, slice_range=SLICE_RANGE,\n",
    "    patient_list=val_patients)\n",
    "test_ds = PngSlicesDataset(DATA_ROOT, with_mask=True,\n",
    "    resized_size=IMG_SIZE, slice_range=SLICE_RANGE,\n",
    "    patient_list=test_patients)\n",
    "\n",
    "train_loader = DataLoader(train_ds, batch_size=BATCH_SIZE,\n",
    "    shuffle=True,  num_workers=NUM_WORKERS, pin_memory=True)\n",
    "val_loader   = DataLoader(val_ds,   batch_size=BATCH_SIZE,\n",
    "    shuffle=False, num_workers=NUM_WORKERS, pin_memory=True)\n",
    "test_loader  = DataLoader(test_ds,  batch_size=BATCH_SIZE,\n",
    "    shuffle=False, num_workers=NUM_WORKERS, pin_memory=True)\n",
    "\n",
    "# -------------------------\n",
    "# 2) Définition de ComboLoss\n",
    "# -------------------------\n",
    "class ComboLoss(nn.Module):\n",
    "    def __init__(self, dice_weight=0.7, pos_weight=20.0):\n",
    "        super().__init__()\n",
    "        from monai.losses import DiceLoss\n",
    "        self.dice_weight = dice_weight\n",
    "        self.dice = DiceLoss(sigmoid=True)\n",
    "        self.pos_weight = pos_weight\n",
    "\n",
    "    def forward(self, inputs, targets):\n",
    "        pw = torch.tensor([self.pos_weight], device=inputs.device)\n",
    "        bce = nn.BCEWithLogitsLoss(pos_weight=pw)(inputs, targets)\n",
    "        dice = self.dice(inputs, targets)\n",
    "        return self.dice_weight * dice + (1 - self.dice_weight) * bce\n",
    "\n",
    "# -------------------------\n",
    "# 3) Modèle, loss, optim, scheduler, métrique\n",
    "# -------------------------\n",
    "unet = UNet(\n",
    "    spatial_dims=2,\n",
    "    in_channels=1,\n",
    "    out_channels=1,\n",
    "    channels=CHANNELS,   # [16,32,64,...]\n",
    "    strides=STRIDES,\n",
    "    num_res_units=1\n",
    ").to(DEVICE)\n",
    "\n",
    "criterion = ComboLoss(dice_weight=0.7, pos_weight=20.0)\n",
    "optimizer = torch.optim.AdamW(unet.parameters(), lr=LR, weight_decay=1e-5)\n",
    "scheduler = ReduceLROnPlateau(optimizer, mode=\"min\",\n",
    "    patience=5, factor=0.5, verbose=True)\n",
    "dice_metric = DiceMetric(include_background=False, reduction=\"mean\")\n",
    "\n",
    "# -------------------------\n",
    "# 4) Boucle d’entraînement / validation\n",
    "# -------------------------\n",
    "best_loss       = float('inf')\n",
    "es_counter      = 0\n",
    "PATIENCE_UNET   = 10\n",
    "best_model_path = \"best_unet_only.pth\"\n",
    "\n",
    "train_losses_unet = []\n",
    "val_losses_unet   = []\n",
    "val_dices_unet    = []\n",
    "\n",
    "print(f\"\\n🔎 Train dataset : {len(train_dataset)} slices\")\n",
    "print(f\"🔎 Val dataset   : {len(val_dataset)} slices\")\n",
    "\n",
    "for epoch in range(1, NBR_EPOCH_UNET+1):\n",
    "    print(f\"\\n🚀 Epoch {epoch}/{NBR_EPOCH_UNET}\")\n",
    "    # — Training —\n",
    "    unet.train()\n",
    "    running_train = 0.0\n",
    "    for imgs, masks, _ in tqdm(train_loader, desc=\"Train Batches\"):\n",
    "        imgs, masks = imgs.to(DEVICE), masks.to(DEVICE)\n",
    "        logits = unet(imgs)\n",
    "        loss   = criterion(logits, masks)\n",
    "        optimizer.zero_grad()\n",
    "        loss.backward()\n",
    "        optimizer.step()\n",
    "        running_train += loss.item()\n",
    "    train_loss = running_train / len(train_loader)\n",
    "    train_losses_unet.append(train_loss)\n",
    "    print(f\"[✓] Train Loss: {train_loss:.4f}\")\n",
    "\n",
    "    # — Validation —\n",
    "    unet.eval()\n",
    "    dice_metric.reset()\n",
    "    running_val = 0.0\n",
    "    with torch.no_grad():\n",
    "        for imgs, masks, _ in tqdm(val_loader, desc=\"Val Batches\"):\n",
    "            imgs, masks = imgs.to(DEVICE), masks.to(DEVICE)\n",
    "            logits = unet(imgs)\n",
    "            running_val += criterion(logits, masks).item()\n",
    "            preds = (torch.sigmoid(logits) > 0.5).float()\n",
    "            dice_metric(y_pred=preds, y=masks)\n",
    "    val_loss = running_val / len(val_loader)\n",
    "    val_dice = dice_metric.aggregate().item()\n",
    "\n",
    "    val_losses_unet.append(val_loss)\n",
    "    val_dices_unet.append(val_dice)\n",
    "    print(f\"🔍 Val Loss: {val_loss:.4f}, Dice: {val_dice:.4f}\")\n",
    "\n",
    "    # scheduler & early stopping\n",
    "    scheduler.step(val_loss)\n",
    "    if val_loss < best_val:\n",
    "        best_val = val_loss\n",
    "        es_cnt   = 0\n",
    "        torch.save(unet.state_dict(), os.path.join(MODEL_DIR, \"best_unet.pth\"))\n",
    "        print(f\"💾 Saved best model (val_loss = {best_val:.4f})\")\n",
    "    else:\n",
    "        es_cnt += 1\n",
    "        if es_cnt >= PATIENCE_UNET:\n",
    "            print(f\"⏹ Early stopping (no improvement in {PATIENCE_UNET} epochs)\")\n",
    "            break\n",
    "\n",
    "# -------------------------\n",
    "# 5) Évaluation finale sur test\n",
    "# -------------------------\n",
    "unet.load_state_dict(torch.load(os.path.join(MODEL_DIR, \"best_unet.pth\")))\n",
    "unet.eval()\n",
    "dice_metric.reset()\n",
    "with torch.no_grad():\n",
    "    for imgs, masks, _ in tqdm(test_loader, desc=\"Test Batches\"):\n",
    "        imgs, masks = imgs.to(DEVICE), masks.to(DEVICE)\n",
    "        preds = (torch.sigmoid(unet(imgs)) > 0.5).float()\n",
    "        dice_metric(y_pred=preds, y=masks)\n",
    "test_dice = dice_metric.aggregate().item()\n",
    "print(f\"\\n🎯 Test Dice: {test_dice:.4f}\")\n",
    "\n",
    "# -------------------------\n",
    "# 6) Tracé des courbes\n",
    "# -------------------------\n",
    "plt.figure(figsize=(8,4))\n",
    "plt.plot(train_losses_unet, label=\"Train Loss\")\n",
    "plt.plot(val_losses_unet,   label=\"Val Loss\")\n",
    "plt.title(\"UNet Loss par Epoch\")\n",
    "plt.xlabel(\"Epoch\"); plt.ylabel(\"Loss\")\n",
    "plt.legend(); plt.grid(); plt.show()\n",
    "\n",
    "plt.figure(figsize=(8,4))\n",
    "plt.plot(val_dices_unet, label=\"Val Dice\")\n",
    "plt.title(\"UNet Dice par Epoch\")\n",
    "plt.xlabel(\"Epoch\"); plt.ylabel(\"Dice\")\n",
    "plt.legend(); plt.grid(); plt.show()\n"
   ]
  },
  {
   "cell_type": "code",
   "execution_count": 9,
   "id": "15602213",
   "metadata": {},
   "outputs": [
    {
     "name": "stderr",
     "output_type": "stream",
     "text": [
      "Évaluation: 100%|██████████| 26/26 [00:02<00:00, 11.49it/s]\n"
     ]
    },
    {
     "name": "stdout",
     "output_type": "stream",
     "text": [
      "\n",
      "🎯 Dice moyen sur le test set : 0.1781 (sur 89 slices valides)\n"
     ]
    },
    {
     "data": {
      "image/png": "[encoded data removed]",
      "text/plain": [
       "<Figure size 1000x500 with 1 Axes>"
      ]
     },
     "metadata": {},
     "output_type": "display_data"
    }
   ],
   "source": [
    "from monai.metrics import DiceMetric\n",
    "import matplotlib.pyplot as plt\n",
    "import numpy as np\n",
    "import torch\n",
    "\n",
    "# Initialisation du DiceMetric MONAI\n",
    "dice_metric = DiceMetric(include_background=False, reduction=\"none\")\n",
    "dice_per_slice = []\n",
    "\n",
    "unet.eval()\n",
    "with torch.no_grad():\n",
    "    for imgs, masks, _ in tqdm(test_loader, desc=\"Évaluation\"):\n",
    "        imgs, masks = imgs.cuda(), masks.cuda()\n",
    "\n",
    "        # ✅ Application du Sigmoid sur la sortie brute\n",
    "        outputs = torch.sigmoid(unet(imgs))\n",
    "\n",
    "        # Calcul du Dice par slice\n",
    "        batch_dice = dice_metric(y_pred=outputs, y=masks)  # shape: (batch_size,)\n",
    "        dice_values = batch_dice.cpu().numpy().flatten().tolist()\n",
    "        dice_per_slice.extend(dice_values)\n",
    "\n",
    "# Nettoyage : exclusion des NaN (slices avec masque vide ou sortie plate)\n",
    "dice_clean = [d for d in dice_per_slice if not np.isnan(d)]\n",
    "mean_dice = np.mean(dice_clean) if dice_clean else 0.0\n",
    "\n",
    "# ✅ Résumé global\n",
    "print(f\"\\n🎯 Dice moyen sur le test set : {mean_dice:.4f} (sur {len(dice_clean)} slices valides)\")\n",
    "\n",
    "# 🔍 Tracé de l’évolution\n",
    "plt.figure(figsize=(10, 5))\n",
    "plt.plot(dice_per_slice, label=\"Dice par slice\", marker='o')\n",
    "plt.axhline(mean_dice, color='r', linestyle='--', label=f\"Dice moyen = {mean_dice:.4f}\")\n",
    "plt.xlabel(\"Indice de slice\")\n",
    "plt.ylabel(\"Dice\")\n",
    "plt.title(\"Évolution du Dice par slice (test set)\")\n",
    "plt.grid(True)\n",
    "plt.legend()\n",
    "plt.tight_layout()\n",
    "plt.show()\n",
    "\n",
    "# Reset du DiceMetric\n",
    "dice_metric.reset()\n"
   ]
  },
  {
   "cell_type": "code",
   "execution_count": 10,
   "id": "f66bc932",
   "metadata": {},
   "outputs": [
    {
     "data": {
      "image/png": "[encoded data removed]",
      "text/plain": [
       "<Figure size 1200x400 with 3 Axes>"
      ]
     },
     "metadata": {},
     "output_type": "display_data"
    }
   ],
   "source": [
    "# Visualisation d'une image avec son score\n",
    "imgs, masks, paths = next(iter(test_loader))\n",
    "imgs, masks = imgs.cuda(), masks.cuda()\n",
    "with torch.no_grad():\n",
    "    outputs = unet(imgs)\n",
    "    outputs_sigmoid = torch.sigmoid(outputs)\n",
    "    preds = (outputs_sigmoid > 0.5).float()\n",
    "\n",
    "    # Dice local (sur cette image uniquement)\n",
    "    dice_local = DiceMetric(include_background=False, reduction=\"mean\")\n",
    "    dice_local(preds, masks)\n",
    "    score_slice = dice_local.aggregate().item()\n",
    "\n",
    "# Visualisation\n",
    "img_np = imgs[0].cpu().squeeze().numpy()\n",
    "mask_np = masks[0].cpu().squeeze().numpy()\n",
    "pred_np = preds[0].cpu().squeeze().numpy()\n",
    "\n",
    "plt.figure(figsize=(12, 4))\n",
    "plt.subplot(1, 3, 1)\n",
    "plt.imshow(img_np, cmap=\"gray\")\n",
    "plt.title(\"Image IRM\")\n",
    "\n",
    "plt.subplot(1, 3, 2)\n",
    "plt.imshow(mask_np, cmap=\"gray\")\n",
    "plt.title(\"Masque réel\")\n",
    "\n",
    "plt.subplot(1, 3, 3)\n",
    "plt.imshow(pred_np, cmap=\"gray\")\n",
    "plt.title(f\"Prédiction (Dice = {score_slice:.4f})\")\n",
    "\n",
    "plt.tight_layout()\n",
    "plt.show()"
   ]
  }
 ],
 "metadata": {
  "kernelspec": {
   "display_name": "monai-dev",
   "language": "python",
   "name": "python3"
  },
  "language_info": {
   "codemirror_mode": {
    "name": "ipython",
    "version": 3
   },
   "file_extension": ".py",
   "mimetype": "text/x-python",
   "name": "python",
   "nbconvert_exporter": "python",
   "pygments_lexer": "ipython3",
   "version": "3.12.9"
  }
 },
 "nbformat": 4,
 "nbformat_minor": 5
}
